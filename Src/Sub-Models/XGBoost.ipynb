{
 "cells": [
  {
   "cell_type": "markdown",
   "metadata": {},
   "source": [
    "# DATA PRE-PROCESSING"
   ]
  },
  {
   "cell_type": "markdown",
   "metadata": {},
   "source": [
    "## Setup dataset folder"
   ]
  },
  {
   "cell_type": "code",
   "execution_count": 20,
   "metadata": {},
   "outputs": [
    {
     "name": "stdout",
     "output_type": "stream",
     "text": [
      "d:\\Master_2023\\Semester_3\\MLATTT\\Final\\Git\\NT221-ML\\dataset\n"
     ]
    }
   ],
   "source": [
    "import os\n",
    "\n",
    "DATASET_FOLDER = os.path.abspath(\"../../dataset/\")\n",
    "print(DATASET_FOLDER)"
   ]
  },
  {
   "cell_type": "markdown",
   "metadata": {},
   "source": [
    "## Import packages"
   ]
  },
  {
   "cell_type": "code",
   "execution_count": 21,
   "metadata": {},
   "outputs": [],
   "source": [
    "import pandas as pd\n",
    "from os import listdir, path"
   ]
  },
  {
   "cell_type": "markdown",
   "metadata": {},
   "source": [
    "## Load Dataset"
   ]
  },
  {
   "cell_type": "code",
   "execution_count": null,
   "metadata": {},
   "outputs": [],
   "source": [
    "# Load the dataset\n",
    "train_path = os.path.join(DATASET_FOLDER, \"train.csv\")\n",
    "#test_path = os.path.join(DATASET_FOLDER, \"test.csv\")\n",
    "df = pd.read_csv(train_path)\n",
    "\n",
    "# Basic column names\n",
    "column_names = [\n",
    "    'ID', 'flow_duration', 'Header_Length', 'Protocol type', 'Duration', 'Rate', 'Srate', 'Drate', 'fin_flag_number', 'syn_flag_number', 'rst_flag_number', 'psh_flag_number', 'ack_flag_number', 'ece_flag_number', 'cwr_flag_number', 'ack_count', 'syn_count', 'fin_count', 'urg_count', 'rst_count', 'HTTP', 'HTTPS', 'DNS', 'Telnet', 'SMTP', 'SSH', 'IRC', 'TCP', 'UDP', 'DHCP', 'ARP', 'ICMP', 'IPv', 'LLC', 'Tot sum', 'Min', 'Max', 'AVG', 'Std', 'Tot size', 'IAT', 'Number', 'Magnitue', 'Radius', 'Covariance', 'Variance', 'Weight', 'Label'\n",
    "]\n",
    "\n",
    "# Assign column names to the DataFrame\n",
    "df.columns = column_names\n",
    "\n",
    "# Drop the last row of the DataFrame\n",
    "# df.drop(df.tail(1).index, inplace=True)"
   ]
  },
  {
   "cell_type": "markdown",
   "metadata": {},
   "source": [
    "## Explain dataset:\n",
    "**Basic Identifiers:**\n",
    "- *ID:* Unique identifier for a network flow.\n",
    "\n",
    "**Flow Characteristics:**\n",
    "- *flow_duration:* Total time a network flow lasted.\n",
    "- *Header_Length*: Size of the packet headers in bytes.\n",
    "- *Protocol type*: Type of protocol used in the flow.\n",
    "- *Duration*: Similar to flow_duration\n",
    "- *Rate*: Data transfer rate during the flow\n",
    "- *Srate*: Data rate from the source host.\n",
    "- *Drate*: Data rate toward the destination host.\n",
    "\n",
    "**TCP Flag Counts:**\n",
    "- *fin_flag_number*: Number of FIN (finish) flags in the flow.\n",
    "- *syn_flag_number*: Number of SYN (synchronize) flags in the flow.\n",
    "- *rst_flag_number*: Number of RST (reset) flags in the flow.\n",
    "- *psh_flag_number*: Number of PSH (push) flags in the flow.\n",
    "- *ack_flag_number*: Number of ACK (acknowledge) flags in the flow.\n",
    "- *ece_flag_number*: Number of ECE (Explicit Congestion Notification Echo) flags in the flow.\n",
    "- *cwr_flag_number*: Number of CWR (Congestion Window Reduced) flags in the flow.\n",
    "\n",
    "**Packet Counts:**\n",
    "- *ack_count*: Total number of acknowledgment packets.\n",
    "- *syn_count*: Total number of synchronization packets.\n",
    "- *fin_count*: Total number of finish packets.\n",
    "- *urg_count*: Total number of urgent packets.\n",
    "- *rst_count*: Total number of reset packets.\n",
    "\n",
    "**Protocol-Specific Counters:**\n",
    "- *HTTP, HTTPS, DNS, Telnet, SMTP, SSH, IRC*:\n",
    "- *TCP, UDP, DHCP, ARP, ICMP, IPv, LLC*: \n",
    "  \n",
    "**Statistical Features:**\n",
    "- *Tot sum*: Total sum of packet sizes in the flow.\n",
    "- *Min*: Minimum packet size in the flow.\n",
    "- *Max*: Maximum packet size in the flow.\n",
    "- *AVG*: Average packet size in the flow.\n",
    "- *Std*: Standard deviation of packet sizes.\n",
    "- *Tot size*: Total size of all packets in the flow.\n",
    "- *IAT*: Time interval between consecutive packets.\n",
    "- *Number*: Total number of packets in the flow.\n",
    "\n",
    "**Advanced Features:**\n",
    "- *Magnitue*: Magnitude of traffic flow, sometimes derived from vector analysis.\n",
    "- *Radius*: Measure of the spatial spread of packets (e.g., in feature space).\n",
    "- *Covariance*: Covariance of features in the flow.\n",
    "- *Variance*: Variance of traffic metrics like packet size or timing.\n",
    "- *Weight*: Weighted importance or significance of the flow.\n",
    "\n",
    "**Target Variable:**\n",
    "- *Label*: Indicates if the traffic is malicious or benign. "
   ]
  },
  {
   "cell_type": "code",
   "execution_count": null,
   "metadata": {},
   "outputs": [],
   "source": [
    "# Fill missing values for each protocol\n",
    "protocols = ['TCP', 'UDP', 'DHCP', 'ARP', 'ICMP', 'IPv', 'LLC']\n",
    "\n",
    "for protocol in protocols:\n",
    "    if protocol == 'TCP':  # TCP is service-dependent\n",
    "        df.loc[(df['TCP'].isnull()) & (df[['HTTP', 'HTTPS', 'Telnet', 'SMTP', 'SSH', 'IRC']].sum(axis=1) > 0), 'TCP'] = 1\n",
    "    elif protocol == 'UDP':  # UDP is service-dependent\n",
    "        df.loc[(df['UDP'].isnull()) & (df['DNS'] > 0), 'UDP'] = 1\n",
    "    else:  # Other protocols (ARP, ICMP, etc.)\n",
    "        df[protocol] = df[protocol].fillna(0)\n",
    "\n"
   ]
  },
  {
   "cell_type": "code",
   "execution_count": 57,
   "metadata": {},
   "outputs": [
    {
     "name": "stdout",
     "output_type": "stream",
     "text": [
      "ID                      0\n",
      "flow_duration           0\n",
      "Header_Length           0\n",
      "Protocol type           0\n",
      "Duration                0\n",
      "Rate                    0\n",
      "Srate                   0\n",
      "Drate                   0\n",
      "fin_flag_number         0\n",
      "syn_flag_number         0\n",
      "rst_flag_number         0\n",
      "psh_flag_number         0\n",
      "ack_flag_number         0\n",
      "ece_flag_number         0\n",
      "cwr_flag_number         0\n",
      "ack_count               0\n",
      "syn_count               0\n",
      "fin_count               0\n",
      "urg_count               0\n",
      "rst_count               0\n",
      "HTTP                94109\n",
      "HTTPS               95192\n",
      "DNS                     0\n",
      "Telnet              93034\n",
      "SMTP                93204\n",
      "SSH                 93690\n",
      "IRC                     0\n",
      "TCP                161047\n",
      "UDP                     0\n",
      "DHCP                    0\n",
      "ARP                     0\n",
      "ICMP                    0\n",
      "IPv                     0\n",
      "LLC                     0\n",
      "Tot sum            195013\n",
      "Min                195013\n",
      "Max                195013\n",
      "AVG                     0\n",
      "Std                195013\n",
      "Tot size           195013\n",
      "IAT                195013\n",
      "Number                  0\n",
      "Magnitue           195013\n",
      "Radius             195013\n",
      "Covariance         195013\n",
      "Variance           195013\n",
      "Weight                  0\n",
      "Label                   0\n",
      "protocol_sum            0\n",
      "dtype: int64\n",
      "<class 'pandas.core.frame.DataFrame'>\n",
      "RangeIndex: 1950138 entries, 0 to 1950137\n",
      "Data columns (total 49 columns):\n",
      " #   Column           Dtype  \n",
      "---  ------           -----  \n",
      " 0   ID               int64  \n",
      " 1   flow_duration    float64\n",
      " 2   Header_Length    float64\n",
      " 3   Protocol type    float64\n",
      " 4   Duration         float64\n",
      " 5   Rate             float64\n",
      " 6   Srate            float64\n",
      " 7   Drate            float64\n",
      " 8   fin_flag_number  float64\n",
      " 9   syn_flag_number  float64\n",
      " 10  rst_flag_number  float64\n",
      " 11  psh_flag_number  float64\n",
      " 12  ack_flag_number  float64\n",
      " 13  ece_flag_number  float64\n",
      " 14  cwr_flag_number  float64\n",
      " 15  ack_count        float64\n",
      " 16  syn_count        float64\n",
      " 17  fin_count        float64\n",
      " 18  urg_count        float64\n",
      " 19  rst_count        float64\n",
      " 20  HTTP             float64\n",
      " 21  HTTPS            float64\n",
      " 22  DNS              float64\n",
      " 23  Telnet           float64\n",
      " 24  SMTP             float64\n",
      " 25  SSH              float64\n",
      " 26  IRC              float64\n",
      " 27  TCP              float64\n",
      " 28  UDP              float64\n",
      " 29  DHCP             float64\n",
      " 30  ARP              float64\n",
      " 31  ICMP             float64\n",
      " 32  IPv              float64\n",
      " 33  LLC              float64\n",
      " 34  Tot sum          float64\n",
      " 35  Min              float64\n",
      " 36  Max              float64\n",
      " 37  AVG              float64\n",
      " 38  Std              float64\n",
      " 39  Tot size         float64\n",
      " 40  IAT              float64\n",
      " 41  Number           float64\n",
      " 42  Magnitue         float64\n",
      " 43  Radius           float64\n",
      " 44  Covariance       float64\n",
      " 45  Variance         float64\n",
      " 46  Weight           float64\n",
      " 47  Label            object \n",
      " 48  protocol_sum     float64\n",
      "dtypes: float64(47), int64(1), object(1)\n",
      "memory usage: 729.0+ MB\n",
      "None\n"
     ]
    }
   ],
   "source": [
    "print(df.isnull().sum())  # Count nulls in each column\n",
    "print(df.info())          # Check data types and null count summary"
   ]
  },
  {
   "cell_type": "code",
   "execution_count": 38,
   "metadata": {},
   "outputs": [],
   "source": [
    "# Flow Characteristics\n",
    "df.loc[df['flow_duration'] <= 0, 'flow_duration'] = df['flow_duration'].median()\n",
    "df.loc[df['Header_Length'] < 20, 'Header_Length'] = df['Header_Length'].median()\n",
    "df.fillna({'Header_Length': df['Header_Length'].mean()}, inplace=True)\n",
    "\n",
    "df.fillna({'Protocol type': df['Protocol type'].mode()[0]}, inplace=True)\n",
    "\n",
    "df.fillna({'Duration': df['Duration'].mean()}, inplace=True)\n",
    "\n",
    "df.fillna({'Rate': df['Rate'].mean()}, inplace=True)\n",
    "\n",
    "df.fillna({'Srate': df['Srate'].mean()}, inplace=True)\n",
    "\n",
    "df.fillna({'Drate': df['Drate'].mean()}, inplace=True)"
   ]
  },
  {
   "cell_type": "code",
   "execution_count": 40,
   "metadata": {},
   "outputs": [],
   "source": [
    "# TCP Flag Counts\n",
    "df.fillna({'rst_flag_number': 0}, inplace=True)\n",
    "df.fillna({'psh_flag_number': 0}, inplace=True)\n",
    "df.fillna({'ece_flag_number': 0}, inplace=True)\n",
    "df.fillna({'cwr_flag_number': 0}, inplace=True)"
   ]
  },
  {
   "cell_type": "code",
   "execution_count": 41,
   "metadata": {},
   "outputs": [],
   "source": [
    "# Packet Counts\n",
    "df.fillna({'ack_count': 0}, inplace=True)\n",
    "df.fillna({'syn_count': 0}, inplace=True)"
   ]
  },
  {
   "cell_type": "code",
   "execution_count": 36,
   "metadata": {},
   "outputs": [
    {
     "name": "stdout",
     "output_type": "stream",
     "text": [
      "                 ID  flow_duration  Header_Length  Protocol type  \\\n",
      "count  1.950138e+06   1.950138e+06   1.950138e+06   1.755125e+06   \n",
      "mean   1.393035e+06   5.997419e+01   2.562040e+05   1.147029e+01   \n",
      "std    8.040343e+05   9.899781e+02   8.193064e+05   1.157109e+01   \n",
      "min    0.000000e+00   9.536743e-09   2.000000e+01   0.000000e+00   \n",
      "25%    6.966822e+05   7.493590e-02   1.066000e+02   6.000000e+00   \n",
      "50%    1.393132e+06   7.493604e-02   7.450800e+02   6.000000e+00   \n",
      "75%    2.089356e+06   4.271036e+00   1.758116e+05   1.645000e+01   \n",
      "max    2.785911e+06   9.968566e+04   9.905298e+06   4.700000e+01   \n",
      "\n",
      "           Duration          Rate         Srate         Drate  \\\n",
      "count  1.755125e+06  1.755125e+06  1.755125e+06  1.755125e+06   \n",
      "mean   7.428192e+01  6.785824e+03  6.750602e+03  8.223632e-06   \n",
      "std    2.871633e+01  8.137564e+04  8.048460e+04  8.870114e-03   \n",
      "min    0.000000e+00  0.000000e+00  0.000000e+00  0.000000e+00   \n",
      "25%    6.400000e+01  3.076981e+00  3.073111e+00  0.000000e+00   \n",
      "50%    6.400000e+01  2.150338e+01  2.148666e+01  0.000000e+00   \n",
      "75%    6.670000e+01  1.334799e+02  1.332011e+02  0.000000e+00   \n",
      "max    2.550000e+02  8.388608e+06  8.388608e+06  1.170939e+01   \n",
      "\n",
      "       fin_flag_number  syn_flag_number  ...           AVG           Std  \\\n",
      "count     1.950138e+06     1.950138e+06  ...  1.950138e+06  1.755125e+06   \n",
      "mean      4.325284e-02     1.530876e-01  ...  3.476236e+02  1.691989e+02   \n",
      "std       2.034258e-01     3.600720e-01  ...  4.437503e+02  3.121736e+02   \n",
      "min       0.000000e+00     0.000000e+00  ...  4.200000e+01  0.000000e+00   \n",
      "25%       0.000000e+00     0.000000e+00  ...  5.400000e+01  0.000000e+00   \n",
      "50%       0.000000e+00     0.000000e+00  ...  8.577572e+01  2.347407e+00   \n",
      "75%       0.000000e+00     0.000000e+00  ...  5.780000e+02  2.113080e+02   \n",
      "max       1.000000e+00     1.000000e+00  ...  1.358300e+04  1.061685e+04   \n",
      "\n",
      "           Tot size           IAT        Number      Magnitue        Radius  \\\n",
      "count  1.755125e+06  1.755125e+06  1.950138e+06  1.755125e+06  1.755125e+06   \n",
      "mean   3.476085e+02  8.328895e+07  9.497451e+00  2.172407e+01  2.389561e+02   \n",
      "std    4.445527e+02  4.192699e+07  2.013270e+00  1.445219e+01  4.411874e+02   \n",
      "min    4.200000e+01  0.000000e+00  1.000000e+00  9.165151e+00  0.000000e+00   \n",
      "25%    5.400000e+01  8.300794e+07  9.500000e+00  1.039230e+01  0.000000e+00   \n",
      "50%    8.400000e+01  8.325435e+07  9.500000e+00  1.297986e+01  3.273241e+00   \n",
      "75%    5.780000e+02  8.357413e+07  9.500000e+00  3.400000e+01  2.964100e+02   \n",
      "max    1.358300e+04  1.676394e+08  1.500000e+01  1.648211e+02  1.501449e+04   \n",
      "\n",
      "         Covariance      Variance        Weight  \n",
      "count  1.755125e+06  1.755125e+06  1.950138e+06  \n",
      "mean   1.435068e+05  4.054312e-01  1.414847e+02  \n",
      "std    5.795866e+05  4.360786e-01  5.183485e+01  \n",
      "min    0.000000e+00  0.000000e+00  1.000000e+00  \n",
      "25%    0.000000e+00  0.000000e+00  1.415500e+02  \n",
      "50%    2.936323e+01  1.500000e-01  1.415500e+02  \n",
      "75%    7.981153e+04  9.375000e-01  1.415500e+02  \n",
      "max    1.287578e+08  1.000000e+00  2.446000e+02  \n",
      "\n",
      "[8 rows x 47 columns]\n"
     ]
    }
   ],
   "source": [
    "# Inspect Data Ranges\n",
    "print(df.describe())  # Statistical summary of numeric columns"
   ]
  },
  {
   "cell_type": "code",
   "execution_count": 23,
   "metadata": {},
   "outputs": [
    {
     "name": "stdout",
     "output_type": "stream",
     "text": [
      "(1950138, 48)\n",
      "        ID  flow_duration  Header_Length  Protocol type  Duration       Rate  \\\n",
      "0   769866       0.000000          54.00           6.00     64.00   2.890680   \n",
      "1  1859874       0.000892          54.58            NaN     64.00  28.594443   \n",
      "2   396092       0.000000           0.00           1.00     64.00  23.716061   \n",
      "3   179708     109.146727        1992.80           8.20     50.10  41.102103   \n",
      "4  1527289       0.025221          58.53           5.95     65.91  25.300629   \n",
      "\n",
      "       Srate  Drate  fin_flag_number  syn_flag_number  ...         Std  \\\n",
      "0   2.890680    0.0              0.0              0.0  ...         NaN   \n",
      "1  28.594443    0.0              0.0              1.0  ...    0.000000   \n",
      "2  23.716061    0.0              0.0              0.0  ...         NaN   \n",
      "3  41.102103    0.0              0.0              0.0  ...  305.527954   \n",
      "4  25.300629    NaN              1.0              0.0  ...    1.158718   \n",
      "\n",
      "   Tot size           IAT  Number   Magnitue      Radius    Covariance  \\\n",
      "0     54.00  8.294698e+07     9.5  10.392305    0.000000      0.000000   \n",
      "1     54.00  8.297298e+07     9.5  10.392305    0.000000      0.000000   \n",
      "2       NaN  8.312478e+07     9.5   9.165151    0.000000           NaN   \n",
      "3    223.00           NaN    13.5  19.438032  433.145956  98347.063168   \n",
      "4     56.76  8.334493e+07     9.5  10.420536    1.657137     61.278209   \n",
      "\n",
      "   Variance  Weight             Label  \n",
      "0      0.00  141.55     DoS-TCP_Flood  \n",
      "1      0.00  141.55     DoS-SYN_Flood  \n",
      "2      0.00  141.55   DDoS-ICMP_Flood  \n",
      "3      1.00  244.60    Recon-PortScan  \n",
      "4      0.04  141.55  DDoS-RSTFINFlood  \n",
      "\n",
      "[5 rows x 48 columns]\n"
     ]
    }
   ],
   "source": [
    "print(df.shape)\n",
    "print(df.head())"
   ]
  },
  {
   "cell_type": "code",
   "execution_count": 24,
   "metadata": {},
   "outputs": [
    {
     "data": {
      "text/plain": [
       "Label\n",
       "MITM-ArpSpoofing           84260\n",
       "DDoS-TCP_Flood             84208\n",
       "Recon-HostDiscovery        84139\n",
       "DoS-UDP_Flood              84139\n",
       "DDoS-ICMP_Fragmentation    84119\n",
       "DoS-TCP_Flood              84086\n",
       "BenignTraffic              84085\n",
       "DDoS-SYN_Flood             84051\n",
       "Mirai-greip_flood          84050\n",
       "DDoS-PSHACK_Flood          84047\n",
       "DDoS-SynonymousIP_Flood    84021\n",
       "Mirai-greeth_flood         84018\n",
       "DDoS-ACK_Fragmentation     84015\n",
       "DoS-SYN_Flood              83971\n",
       "DDoS-RSTFINFlood           83949\n",
       "DDoS-UDP_Flood             83905\n",
       "DDoS-UDP_Fragmentation     83895\n",
       "DNS_Spoofing               83746\n",
       "Mirai-udpplain             83653\n",
       "DDoS-ICMP_Flood            83587\n",
       "Recon-OSScan               69603\n",
       "Recon-PortScan             58311\n",
       "DoS-HTTP_Flood             50629\n",
       "VulnerabilityScan          26378\n",
       "DDoS-HTTP_Flood            20338\n",
       "DDoS-SlowLoris             16573\n",
       "DictionaryBruteForce        9213\n",
       "BrowserHijacking            4134\n",
       "CommandInjection            3821\n",
       "SqlInjection                3748\n",
       "XSS                         2690\n",
       "Backdoor_Malware            2252\n",
       "Recon-PingSweep             1632\n",
       "Uploading_Attack             872\n",
       "Name: count, dtype: int64"
      ]
     },
     "execution_count": 24,
     "metadata": {},
     "output_type": "execute_result"
    }
   ],
   "source": [
    "# xx types of attacks\n",
    "df['Label'].value_counts()"
   ]
  },
  {
   "cell_type": "markdown",
   "metadata": {},
   "source": [
    "## Drop unnecessary columns"
   ]
  },
  {
   "cell_type": "code",
   "execution_count": 10,
   "metadata": {},
   "outputs": [],
   "source": [
    "# Drop unnecessary columns from the DataFrame\n",
    "# 'ID': unique identifier for the event\n",
    "df = df.drop(columns=['ID'])"
   ]
  },
  {
   "cell_type": "markdown",
   "metadata": {},
   "source": [
    "## Inspect Dataset \n",
    "* Check the first few rows.\n",
    "* Look for null values and data types."
   ]
  },
  {
   "cell_type": "code",
   "execution_count": 11,
   "metadata": {},
   "outputs": [
    {
     "name": "stdout",
     "output_type": "stream",
     "text": [
      "   flow_duration  Header_Length  Protocol type  Duration       Rate  \\\n",
      "0       0.000000          54.00           6.00     64.00   2.890680   \n",
      "1       0.000892          54.58            NaN     64.00  28.594443   \n",
      "2       0.000000           0.00           1.00     64.00  23.716061   \n",
      "3     109.146727        1992.80           8.20     50.10  41.102103   \n",
      "4       0.025221          58.53           5.95     65.91  25.300629   \n",
      "\n",
      "       Srate  Drate  fin_flag_number  syn_flag_number  rst_flag_number  ...  \\\n",
      "0   2.890680    0.0              0.0              0.0              0.0  ...   \n",
      "1  28.594443    0.0              0.0              1.0              0.0  ...   \n",
      "2  23.716061    0.0              0.0              0.0              0.0  ...   \n",
      "3  41.102103    0.0              0.0              0.0              0.0  ...   \n",
      "4  25.300629    NaN              1.0              0.0              1.0  ...   \n",
      "\n",
      "          Std  Tot size           IAT  Number   Magnitue      Radius  \\\n",
      "0         NaN     54.00  8.294698e+07     9.5  10.392305    0.000000   \n",
      "1    0.000000     54.00  8.297298e+07     9.5  10.392305    0.000000   \n",
      "2         NaN       NaN  8.312478e+07     9.5   9.165151    0.000000   \n",
      "3  305.527954    223.00           NaN    13.5  19.438032  433.145956   \n",
      "4    1.158718     56.76  8.334493e+07     9.5  10.420536    1.657137   \n",
      "\n",
      "     Covariance  Variance  Weight             Label  \n",
      "0      0.000000      0.00  141.55     DoS-TCP_Flood  \n",
      "1      0.000000      0.00  141.55     DoS-SYN_Flood  \n",
      "2           NaN      0.00  141.55   DDoS-ICMP_Flood  \n",
      "3  98347.063168      1.00  244.60    Recon-PortScan  \n",
      "4     61.278209      0.04  141.55  DDoS-RSTFINFlood  \n",
      "\n",
      "[5 rows x 47 columns]\n"
     ]
    }
   ],
   "source": [
    "# Inspect the dataset\n",
    "print(df.head())"
   ]
  },
  {
   "cell_type": "code",
   "execution_count": 12,
   "metadata": {},
   "outputs": [
    {
     "name": "stdout",
     "output_type": "stream",
     "text": [
      "<class 'pandas.core.frame.DataFrame'>\n",
      "RangeIndex: 1950138 entries, 0 to 1950137\n",
      "Data columns (total 47 columns):\n",
      " #   Column           Dtype  \n",
      "---  ------           -----  \n",
      " 0   flow_duration    float64\n",
      " 1   Header_Length    float64\n",
      " 2   Protocol type    float64\n",
      " 3   Duration         float64\n",
      " 4   Rate             float64\n",
      " 5   Srate            float64\n",
      " 6   Drate            float64\n",
      " 7   fin_flag_number  float64\n",
      " 8   syn_flag_number  float64\n",
      " 9   rst_flag_number  float64\n",
      " 10  psh_flag_number  float64\n",
      " 11  ack_flag_number  float64\n",
      " 12  ece_flag_number  float64\n",
      " 13  cwr_flag_number  float64\n",
      " 14  ack_count        float64\n",
      " 15  syn_count        float64\n",
      " 16  fin_count        float64\n",
      " 17  urg_count        float64\n",
      " 18  rst_count        float64\n",
      " 19  HTTP             float64\n",
      " 20  HTTPS            float64\n",
      " 21  DNS              float64\n",
      " 22  Telnet           float64\n",
      " 23  SMTP             float64\n",
      " 24  SSH              float64\n",
      " 25  IRC              float64\n",
      " 26  TCP              float64\n",
      " 27  UDP              float64\n",
      " 28  DHCP             float64\n",
      " 29  ARP              float64\n",
      " 30  ICMP             float64\n",
      " 31  IPv              float64\n",
      " 32  LLC              float64\n",
      " 33  Tot sum          float64\n",
      " 34  Min              float64\n",
      " 35  Max              float64\n",
      " 36  AVG              float64\n",
      " 37  Std              float64\n",
      " 38  Tot size         float64\n",
      " 39  IAT              float64\n",
      " 40  Number           float64\n",
      " 41  Magnitue         float64\n",
      " 42  Radius           float64\n",
      " 43  Covariance       float64\n",
      " 44  Variance         float64\n",
      " 45  Weight           float64\n",
      " 46  Label            object \n",
      "dtypes: float64(46), object(1)\n",
      "memory usage: 699.3+ MB\n",
      "None\n"
     ]
    }
   ],
   "source": [
    "print(df.info())"
   ]
  },
  {
   "cell_type": "code",
   "execution_count": 13,
   "metadata": {},
   "outputs": [
    {
     "name": "stdout",
     "output_type": "stream",
     "text": [
      "       flow_duration  Header_Length  Protocol type      Duration  \\\n",
      "count   1.950138e+06   1.755125e+06   1.755125e+06  1.755125e+06   \n",
      "mean    5.994925e+01   2.561773e+05   1.147029e+01  7.428192e+01   \n",
      "std     9.899796e+02   8.636325e+05   1.157109e+01  2.871633e+01   \n",
      "min     0.000000e+00   0.000000e+00   0.000000e+00  0.000000e+00   \n",
      "25%     0.000000e+00   5.400000e+01   6.000000e+00  6.400000e+01   \n",
      "50%     7.493590e-02   1.790400e+02   6.000000e+00  6.400000e+01   \n",
      "75%     4.271036e+00   3.354800e+04   1.645000e+01  6.670000e+01   \n",
      "max     9.968566e+04   9.905298e+06   4.700000e+01  2.550000e+02   \n",
      "\n",
      "               Rate         Srate         Drate  fin_flag_number  \\\n",
      "count  1.755125e+06  1.755125e+06  1.755125e+06     1.950138e+06   \n",
      "mean   6.785824e+03  6.750602e+03  8.223632e-06     4.325284e-02   \n",
      "std    8.137564e+04  8.048460e+04  8.870114e-03     2.034258e-01   \n",
      "min    0.000000e+00  0.000000e+00  0.000000e+00     0.000000e+00   \n",
      "25%    3.076981e+00  3.073111e+00  0.000000e+00     0.000000e+00   \n",
      "50%    2.150338e+01  2.148666e+01  0.000000e+00     0.000000e+00   \n",
      "75%    1.334799e+02  1.332011e+02  0.000000e+00     0.000000e+00   \n",
      "max    8.388608e+06  8.388608e+06  1.170939e+01     1.000000e+00   \n",
      "\n",
      "       syn_flag_number  rst_flag_number  ...           AVG           Std  \\\n",
      "count     1.950138e+06     1.755125e+06  ...  1.950138e+06  1.755125e+06   \n",
      "mean      1.530876e-01     6.322684e-02  ...  3.476236e+02  1.691989e+02   \n",
      "std       3.600720e-01     2.433706e-01  ...  4.437503e+02  3.121736e+02   \n",
      "min       0.000000e+00     0.000000e+00  ...  4.200000e+01  0.000000e+00   \n",
      "25%       0.000000e+00     0.000000e+00  ...  5.400000e+01  0.000000e+00   \n",
      "50%       0.000000e+00     0.000000e+00  ...  8.577572e+01  2.347407e+00   \n",
      "75%       0.000000e+00     0.000000e+00  ...  5.780000e+02  2.113080e+02   \n",
      "max       1.000000e+00     1.000000e+00  ...  1.358300e+04  1.061685e+04   \n",
      "\n",
      "           Tot size           IAT        Number      Magnitue        Radius  \\\n",
      "count  1.755125e+06  1.755125e+06  1.950138e+06  1.755125e+06  1.755125e+06   \n",
      "mean   3.476085e+02  8.328895e+07  9.497451e+00  2.172407e+01  2.389561e+02   \n",
      "std    4.445527e+02  4.192699e+07  2.013270e+00  1.445219e+01  4.411874e+02   \n",
      "min    4.200000e+01  0.000000e+00  1.000000e+00  9.165151e+00  0.000000e+00   \n",
      "25%    5.400000e+01  8.300794e+07  9.500000e+00  1.039230e+01  0.000000e+00   \n",
      "50%    8.400000e+01  8.325435e+07  9.500000e+00  1.297986e+01  3.273241e+00   \n",
      "75%    5.780000e+02  8.357413e+07  9.500000e+00  3.400000e+01  2.964100e+02   \n",
      "max    1.358300e+04  1.676394e+08  1.500000e+01  1.648211e+02  1.501449e+04   \n",
      "\n",
      "         Covariance      Variance        Weight  \n",
      "count  1.755125e+06  1.755125e+06  1.950138e+06  \n",
      "mean   1.435068e+05  4.054312e-01  1.414847e+02  \n",
      "std    5.795866e+05  4.360786e-01  5.183485e+01  \n",
      "min    0.000000e+00  0.000000e+00  1.000000e+00  \n",
      "25%    0.000000e+00  0.000000e+00  1.415500e+02  \n",
      "50%    2.936323e+01  1.500000e-01  1.415500e+02  \n",
      "75%    7.981153e+04  9.375000e-01  1.415500e+02  \n",
      "max    1.287578e+08  1.000000e+00  2.446000e+02  \n",
      "\n",
      "[8 rows x 46 columns]\n"
     ]
    }
   ],
   "source": [
    "print(df.describe())"
   ]
  },
  {
   "cell_type": "markdown",
   "metadata": {},
   "source": [
    "## Handle Missing Values\n",
    "* Drop columns or rows with excessive missing data.\n",
    "* Impute missing values with mean/median for numeric data or mode for categorical data."
   ]
  },
  {
   "cell_type": "code",
   "execution_count": 14,
   "metadata": {},
   "outputs": [
    {
     "name": "stdout",
     "output_type": "stream",
     "text": [
      "Total:  1950138\n",
      "flow_duration           0\n",
      "Header_Length      195013\n",
      "Protocol type      195013\n",
      "Duration           195013\n",
      "Rate               195013\n",
      "Srate              195013\n",
      "Drate              195013\n",
      "fin_flag_number         0\n",
      "syn_flag_number         0\n",
      "rst_flag_number    195013\n",
      "psh_flag_number    195013\n",
      "ack_flag_number         0\n",
      "ece_flag_number    195013\n",
      "cwr_flag_number    195013\n",
      "ack_count          195013\n",
      "syn_count          195013\n",
      "fin_count               0\n",
      "urg_count               0\n",
      "rst_count               0\n",
      "HTTP               195013\n",
      "HTTPS              195013\n",
      "DNS                     0\n",
      "Telnet             195013\n",
      "SMTP               195013\n",
      "SSH                195013\n",
      "IRC                     0\n",
      "TCP                195013\n",
      "UDP                     0\n",
      "DHCP                    0\n",
      "ARP                195013\n",
      "ICMP               195013\n",
      "IPv                     0\n",
      "LLC                     0\n",
      "Tot sum            195013\n",
      "Min                195013\n",
      "Max                195013\n",
      "AVG                     0\n",
      "Std                195013\n",
      "Tot size           195013\n",
      "IAT                195013\n",
      "Number                  0\n",
      "Magnitue           195013\n",
      "Radius             195013\n",
      "Covariance         195013\n",
      "Variance           195013\n",
      "Weight                  0\n",
      "Label                   0\n",
      "dtype: int64\n"
     ]
    }
   ],
   "source": [
    "# Check for missing values\n",
    "print(\"Total: \", len(df))\n",
    "print(df.isnull().sum())"
   ]
  },
  {
   "cell_type": "code",
   "execution_count": 58,
   "metadata": {},
   "outputs": [],
   "source": [
    "# List of specific columns to replace NaN with 0\n",
    "columns_to_fill = ['Header_Length', 'Protocol type', 'Duration', 'Rate', 'Srate', 'Drate',\n",
    "                   'rst_flag_number', 'psh_flag_number', 'ece_flag_number', 'cwr_flag_number', 'ack_count', 'syn_count',\n",
    "                   'HTTP', 'HTTPS', 'SMTP', 'SSH', 'TCP', 'ARP', 'ICMP',\n",
    "                   'Tot sum', 'Min', \"Max\", 'Std', 'Tot size', 'IAT',\n",
    "                   'Magnitue', 'Radius','Covariance', 'Variance']\n",
    "\n",
    "# Fill missing values with 0 for these columns\n",
    "df[columns_to_fill] = df[columns_to_fill].fillna(0)"
   ]
  },
  {
   "cell_type": "markdown",
   "metadata": {},
   "source": [
    "## Check Unique Values Per Column\n",
    "* No records is Telnet -> drop"
   ]
  },
  {
   "cell_type": "code",
   "execution_count": 59,
   "metadata": {},
   "outputs": [
    {
     "name": "stdout",
     "output_type": "stream",
     "text": [
      "ID                 1950138/1950138\n",
      "flow_duration      1291511/1950138\n",
      "Header_Length       656544/1950138\n",
      "Protocol type         4668/1950138\n",
      "Duration             12354/1950138\n",
      "Rate               1574315/1950138\n",
      "Srate              1574082/1950138\n",
      "Drate                   63/1950138\n",
      "fin_flag_number          2/1950138\n",
      "syn_flag_number          2/1950138\n",
      "rst_flag_number          2/1950138\n",
      "psh_flag_number          2/1950138\n",
      "ack_flag_number          2/1950138\n",
      "ece_flag_number          2/1950138\n",
      "cwr_flag_number          2/1950138\n",
      "ack_count              587/1950138\n",
      "syn_count             1356/1950138\n",
      "fin_count              993/1950138\n",
      "urg_count            32231/1950138\n",
      "rst_count            64085/1950138\n",
      "HTTP                     2/1950138\n",
      "HTTPS                    2/1950138\n",
      "DNS                      2/1950138\n",
      "Telnet                   1/1950138\n",
      "SMTP                     2/1950138\n",
      "SSH                      2/1950138\n",
      "IRC                      2/1950138\n",
      "TCP                      2/1950138\n",
      "UDP                      2/1950138\n",
      "DHCP                     2/1950138\n",
      "ARP                      2/1950138\n",
      "ICMP                     2/1950138\n",
      "IPv                      2/1950138\n",
      "LLC                      2/1950138\n",
      "Tot sum             334774/1950138\n",
      "Min                  57470/1950138\n",
      "Max                 111296/1950138\n",
      "AVG                 875505/1950138\n",
      "Std                 765458/1950138\n",
      "Tot size             92675/1950138\n",
      "IAT                1677253/1950138\n",
      "Number                  97/1950138\n",
      "Magnitue            783578/1950138\n",
      "Radius              753224/1950138\n",
      "Covariance          753546/1950138\n",
      "Variance               708/1950138\n",
      "Weight                 103/1950138\n",
      "Label                   34/1950138\n",
      "protocol_sum             5/1950138\n",
      "dtype: object\n"
     ]
    }
   ],
   "source": [
    "# Calculate the number of unique values and the total number of rows\n",
    "unique_counts = df.nunique()\n",
    "total_counts = len(df)\n",
    "\n",
    "# Create a Series with the ratio of unique values\n",
    "ratios = unique_counts.astype(str) + '/' + str(total_counts)\n",
    "\n",
    "# Display the ratios for each column\n",
    "print(ratios)"
   ]
  },
  {
   "cell_type": "code",
   "execution_count": 60,
   "metadata": {},
   "outputs": [],
   "source": [
    "# Drop unnecessary columns from the DataFrame\n",
    "# 'Telnet': no records is telnet\n",
    "df = df.drop(columns=['Telnet'])"
   ]
  },
  {
   "cell_type": "code",
   "execution_count": 61,
   "metadata": {},
   "outputs": [
    {
     "name": "stdout",
     "output_type": "stream",
     "text": [
      "Label mapping: {'Backdoor_Malware': 0, 'BenignTraffic': 1, 'BrowserHijacking': 2, 'CommandInjection': 3, 'DDoS-ACK_Fragmentation': 4, 'DDoS-HTTP_Flood': 5, 'DDoS-ICMP_Flood': 6, 'DDoS-ICMP_Fragmentation': 7, 'DDoS-PSHACK_Flood': 8, 'DDoS-RSTFINFlood': 9, 'DDoS-SYN_Flood': 10, 'DDoS-SlowLoris': 11, 'DDoS-SynonymousIP_Flood': 12, 'DDoS-TCP_Flood': 13, 'DDoS-UDP_Flood': 14, 'DDoS-UDP_Fragmentation': 15, 'DNS_Spoofing': 16, 'DictionaryBruteForce': 17, 'DoS-HTTP_Flood': 18, 'DoS-SYN_Flood': 19, 'DoS-TCP_Flood': 20, 'DoS-UDP_Flood': 21, 'MITM-ArpSpoofing': 22, 'Mirai-greeth_flood': 23, 'Mirai-greip_flood': 24, 'Mirai-udpplain': 25, 'Recon-HostDiscovery': 26, 'Recon-OSScan': 27, 'Recon-PingSweep': 28, 'Recon-PortScan': 29, 'SqlInjection': 30, 'Uploading_Attack': 31, 'VulnerabilityScan': 32, 'XSS': 33}\n"
     ]
    }
   ],
   "source": [
    "from sklearn.preprocessing import LabelEncoder\n",
    "\n",
    "# Assuming df is your DataFrame\n",
    "label_encoder = LabelEncoder()\n",
    "\n",
    "# Fit and transform the 'Label' column\n",
    "df['Encoded_Label'] = label_encoder.fit_transform(df['Label'])\n",
    "\n",
    "# Display the mapping of labels to encoded values\n",
    "label_mapping = dict(zip(label_encoder.classes_, label_encoder.transform(label_encoder.classes_)))\n",
    "print(\"Label mapping:\", label_mapping)"
   ]
  },
  {
   "cell_type": "code",
   "execution_count": null,
   "metadata": {},
   "outputs": [],
   "source": []
  },
  {
   "cell_type": "markdown",
   "metadata": {},
   "source": [
    "# Feature Selection"
   ]
  },
  {
   "cell_type": "code",
   "execution_count": null,
   "metadata": {},
   "outputs": [],
   "source": [
    "X = df.drop(['Label'], axis=1)  # Features\n",
    "y = df['Label']  # Target"
   ]
  },
  {
   "cell_type": "code",
   "execution_count": null,
   "metadata": {},
   "outputs": [],
   "source": [
    "# Feature Importance from Tree-Based Models\n",
    "from sklearn.ensemble import RandomForestClassifier\n",
    "import pandas as pd\n",
    "\n",
    "# Train a Random Forest model\n",
    "rf = RandomForestClassifier(random_state=42)\n",
    "rf.fit(X, y)\n",
    "\n",
    "# Get feature importance\n",
    "feature_importances = pd.DataFrame({\n",
    "    'Feature': X.columns,\n",
    "    'Importance': rf.feature_importances_\n",
    "}).sort_values(by='Importance', ascending=False)\n",
    "\n",
    "# Select top 30 features\n",
    "top_features = feature_importances.head(30)['Feature'].tolist()\n",
    "print(\"Top 30 Features:\", top_features)\n"
   ]
  },
  {
   "cell_type": "markdown",
   "metadata": {},
   "source": [
    "# Model: XGBoost"
   ]
  },
  {
   "cell_type": "code",
   "execution_count": 62,
   "metadata": {},
   "outputs": [],
   "source": [
    "import pandas as pd\n",
    "from sklearn.model_selection import GridSearchCV\n",
    "from sklearn.metrics import classification_report, confusion_matrix, accuracy_score\n",
    "from sklearn.model_selection import train_test_split\n",
    "from sklearn.preprocessing import LabelEncoder\n",
    "import time\n",
    "import numpy as np\n",
    "#import seaborn as sns\n",
    "import matplotlib.pyplot as plt\n",
    "from xgboost import XGBClassifier"
   ]
  },
  {
   "cell_type": "code",
   "execution_count": 63,
   "metadata": {},
   "outputs": [],
   "source": [
    "# Initialize XGBoost Classifier\n",
    "xgb = XGBClassifier(random_state=10, use_label_encoder=False, eval_metric='mlogloss')  # Disable unnecessary warning for classification"
   ]
  },
  {
   "cell_type": "code",
   "execution_count": 64,
   "metadata": {},
   "outputs": [],
   "source": [
    "X = df[['flow_duration', 'Header_Length', 'Protocol type', 'Duration', 'Rate', 'Srate', 'Drate', 'fin_flag_number', 'syn_flag_number', 'rst_flag_number', 'psh_flag_number', 'ack_flag_number', 'ece_flag_number', 'cwr_flag_number', 'ack_count', 'syn_count', 'fin_count', 'urg_count', 'rst_count', 'HTTP', 'HTTPS', 'DNS', 'SMTP', 'SSH', 'IRC', 'TCP', 'UDP', 'DHCP', 'ARP', 'ICMP', 'IPv', 'LLC', 'Tot sum', 'Min', 'Max', 'AVG', 'Std', 'Tot size', 'IAT', 'Number', 'Magnitue', 'Radius', 'Covariance', 'Variance', 'Weight']]\n",
    "Y = df['Label']\n",
    "\n",
    "# Encode labels\n",
    "label_encoder = LabelEncoder()\n",
    "Y_encoded = label_encoder.fit_transform(Y)  # Transform string labels into integers\n",
    "\n",
    "# Train-test split\n",
    "X_train, X_test, Y_train, Y_test = train_test_split(X, Y_encoded, random_state=10, test_size=0.2)\n",
    "\n",
    "\n",
    "#X_train, X_test, Y_train, Y_test = train_test_split(X, Y, random_state=10, test_size=0.2)"
   ]
  },
  {
   "cell_type": "code",
   "execution_count": null,
   "metadata": {},
   "outputs": [
    {
     "name": "stdout",
     "output_type": "stream",
     "text": [
      "program start...\n",
      "\n"
     ]
    },
    {
     "name": "stderr",
     "output_type": "stream",
     "text": [
      "c:\\Users\\Admin\\AppData\\Local\\Programs\\Python\\Python312\\Lib\\site-packages\\xgboost\\core.py:158: UserWarning: [15:42:29] WARNING: C:\\buildkite-agent\\builds\\buildkite-windows-cpu-autoscaling-group-i-0c55ff5f71b100e98-1\\xgboost\\xgboost-ci-windows\\src\\learner.cc:740: \n",
      "Parameters: { \"use_label_encoder\" } are not used.\n",
      "\n",
      "  warnings.warn(smsg, UserWarning)\n"
     ]
    }
   ],
   "source": [
    "start = time.time()\n",
    "print('program start...')\n",
    "print()\n",
    "\n",
    "# Train the model\n",
    "xgb.fit(X_train, Y_train)\n",
    "print()\n",
    "\n",
    "print('prediction:')\n",
    "# Make predictions\n",
    "Y_pred = xgb.predict(X_test)\n",
    "print(Y_pred)\n",
    "print()\n",
    "\n",
    "# print('Score:')\n",
    "# score = xgb.score(X_test,Y_test)\n",
    "# print(score)\n",
    "\n",
    "end = time.time()\n",
    "print('program end...')\n",
    "print()\n",
    "print('time cost: ')\n",
    "print(end - start, 'seconds')\n"
   ]
  },
  {
   "cell_type": "markdown",
   "metadata": {},
   "source": []
  },
  {
   "cell_type": "code",
   "execution_count": null,
   "metadata": {},
   "outputs": [
    {
     "name": "stdout",
     "output_type": "stream",
     "text": [
      "Accuracy: 0.9365891679571723\n",
      "Classification Report:\n",
      "               precision    recall  f1-score   support\n",
      "\n",
      "           0       0.43      0.19      0.26       464\n",
      "           1       0.77      0.88      0.82     16898\n",
      "           2       0.85      0.52      0.64       859\n",
      "           3       0.55      0.33      0.41       797\n",
      "           4       1.00      1.00      1.00     16846\n",
      "           5       0.98      0.98      0.98      4131\n",
      "           6       1.00      1.00      1.00     16783\n",
      "           7       1.00      1.00      1.00     16790\n",
      "           8       1.00      1.00      1.00     16620\n",
      "           9       1.00      1.00      1.00     16725\n",
      "          10       0.94      0.99      0.96     16873\n",
      "          11       0.98      0.99      0.98      3314\n",
      "          12       0.99      0.97      0.98     16997\n",
      "          13       0.96      0.99      0.98     16854\n",
      "          14       0.98      0.98      0.98     16795\n",
      "          15       1.00      1.00      1.00     16711\n",
      "          16       0.76      0.78      0.77     16619\n",
      "          17       0.89      0.57      0.70      1816\n",
      "          18       0.99      0.99      0.99     10083\n",
      "          19       0.99      0.96      0.97     16913\n",
      "          20       0.99      0.96      0.98     16737\n",
      "          21       0.98      0.98      0.98     16745\n",
      "          22       0.87      0.83      0.85     17017\n",
      "          23       1.00      1.00      1.00     16752\n",
      "          24       1.00      1.00      1.00     16678\n",
      "          25       1.00      1.00      1.00     16536\n",
      "          26       0.82      0.90      0.86     17065\n",
      "          27       0.73      0.69      0.71     13821\n",
      "          28       0.63      0.25      0.36       326\n",
      "          29       0.72      0.71      0.72     11710\n",
      "          30       0.69      0.35      0.46       748\n",
      "          31       0.41      0.13      0.20       165\n",
      "          32       0.98      0.99      0.99      5312\n",
      "          33       0.28      0.13      0.18       528\n",
      "\n",
      "    accuracy                           0.94    390028\n",
      "   macro avg       0.86      0.79      0.81    390028\n",
      "weighted avg       0.94      0.94      0.94    390028\n",
      "\n",
      "Confusion Matrix:\n",
      " [[   86     2     0 ...     4     0    50]\n",
      " [    0 14811     2 ...     0     0     0]\n",
      " [    0    36   443 ...     0     0     0]\n",
      " ...\n",
      " [    5     0     0 ...    22     0     9]\n",
      " [    0     2     0 ...     0  5270     0]\n",
      " [   34     5     1 ...     8     0    70]]\n"
     ]
    }
   ],
   "source": [
    "# Evaluate the model\n",
    "print(\"Accuracy:\", accuracy_score(Y_test, Y_pred))\n",
    "print(\"Classification Report:\\n\", classification_report(Y_test, Y_pred))\n",
    "print(\"Confusion Matrix:\\n\", confusion_matrix(Y_test, Y_pred))"
   ]
  }
 ],
 "metadata": {
  "kernelspec": {
   "display_name": "Python 3",
   "language": "python",
   "name": "python3"
  },
  "language_info": {
   "codemirror_mode": {
    "name": "ipython",
    "version": 3
   },
   "file_extension": ".py",
   "mimetype": "text/x-python",
   "name": "python",
   "nbconvert_exporter": "python",
   "pygments_lexer": "ipython3",
   "version": "3.12.2"
  }
 },
 "nbformat": 4,
 "nbformat_minor": 2
}
