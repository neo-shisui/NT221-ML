{
 "cells": [
  {
   "cell_type": "markdown",
   "metadata": {},
   "source": [
    "# DATA PRE-PROCESSING"
   ]
  },
  {
   "cell_type": "markdown",
   "metadata": {},
   "source": [
    "## Setup dataset folder"
   ]
  },
  {
   "cell_type": "code",
   "execution_count": 1,
   "metadata": {},
   "outputs": [
    {
     "name": "stdout",
     "output_type": "stream",
     "text": [
      "/media/shisui/New Volume1/Master_2023/Semester_3/MLATTT/Final/Git/NT221-ML/dataset\n"
     ]
    }
   ],
   "source": [
    "import os\n",
    "\n",
    "DATASET_FOLDER = os.path.abspath(\"../dataset/\")\n",
    "print(DATASET_FOLDER)"
   ]
  },
  {
   "cell_type": "markdown",
   "metadata": {},
   "source": [
    "## Import packages"
   ]
  },
  {
   "cell_type": "code",
   "execution_count": 2,
   "metadata": {},
   "outputs": [],
   "source": [
    "import pandas as pd\n",
    "from os import listdir, path"
   ]
  },
  {
   "cell_type": "markdown",
   "metadata": {},
   "source": [
    "## Load Dataset"
   ]
  },
  {
   "cell_type": "code",
   "execution_count": 3,
   "metadata": {},
   "outputs": [],
   "source": [
    "# Load the dataset\n",
    "train_path = os.path.join(DATASET_FOLDER, \"train.csv\")\n",
    "#test_path = os.path.join(DATASET_FOLDER, \"test.csv\")\n",
    "df = pd.read_csv(train_path)\n",
    "\n",
    "# Basic column names\n",
    "column_names = [\n",
    "    'ID', 'flow_duration', 'Header_Length', 'Protocol type', 'Duration', 'Rate', 'Srate', 'Drate', 'fin_flag_number', 'syn_flag_number', 'rst_flag_number', 'psh_flag_number', 'ack_flag_number', 'ece_flag_number', 'cwr_flag_number', 'ack_count', 'syn_count', 'fin_count', 'urg_count', 'rst_count', 'HTTP', 'HTTPS', 'DNS', 'Telnet', 'SMTP', 'SSH', 'IRC', 'TCP', 'UDP', 'DHCP', 'ARP', 'ICMP', 'IPv', 'LLC', 'Tot sum', 'Min', 'Max', 'AVG', 'Std', 'Tot size', 'IAT', 'Number', 'Magnitue', 'Radius', 'Covariance', 'Variance', 'Weight', 'Label'\n",
    "]\n",
    "\n",
    "# Assign column names to the DataFrame\n",
    "df.columns = column_names\n",
    "\n",
    "# Drop the last row of the DataFrame\n",
    "# df.drop(df.tail(1).index, inplace=True)"
   ]
  },
  {
   "cell_type": "code",
   "execution_count": 4,
   "metadata": {},
   "outputs": [
    {
     "name": "stdout",
     "output_type": "stream",
     "text": [
      "(1950138, 48)\n",
      "        ID  flow_duration  Header_Length  Protocol type  Duration       Rate  \\\n",
      "0   769866       0.000000          54.00           6.00     64.00   2.890680   \n",
      "1  1859874       0.000892          54.58            NaN     64.00  28.594443   \n",
      "2   396092       0.000000           0.00           1.00     64.00  23.716061   \n",
      "3   179708     109.146727        1992.80           8.20     50.10  41.102103   \n",
      "4  1527289       0.025221          58.53           5.95     65.91  25.300629   \n",
      "\n",
      "       Srate  Drate  fin_flag_number  syn_flag_number  ...         Std  \\\n",
      "0   2.890680    0.0              0.0              0.0  ...         NaN   \n",
      "1  28.594443    0.0              0.0              1.0  ...    0.000000   \n",
      "2  23.716061    0.0              0.0              0.0  ...         NaN   \n",
      "3  41.102103    0.0              0.0              0.0  ...  305.527954   \n",
      "4  25.300629    NaN              1.0              0.0  ...    1.158718   \n",
      "\n",
      "   Tot size           IAT  Number   Magnitue      Radius    Covariance  \\\n",
      "0     54.00  8.294698e+07     9.5  10.392305    0.000000      0.000000   \n",
      "1     54.00  8.297298e+07     9.5  10.392305    0.000000      0.000000   \n",
      "2       NaN  8.312478e+07     9.5   9.165151    0.000000           NaN   \n",
      "3    223.00           NaN    13.5  19.438032  433.145956  98347.063168   \n",
      "4     56.76  8.334493e+07     9.5  10.420536    1.657137     61.278209   \n",
      "\n",
      "   Variance  Weight             Label  \n",
      "0      0.00  141.55     DoS-TCP_Flood  \n",
      "1      0.00  141.55     DoS-SYN_Flood  \n",
      "2      0.00  141.55   DDoS-ICMP_Flood  \n",
      "3      1.00  244.60    Recon-PortScan  \n",
      "4      0.04  141.55  DDoS-RSTFINFlood  \n",
      "\n",
      "[5 rows x 48 columns]\n"
     ]
    }
   ],
   "source": [
    "print(df.shape)\n",
    "print(df.head())"
   ]
  },
  {
   "cell_type": "code",
   "execution_count": 5,
   "metadata": {},
   "outputs": [
    {
     "data": {
      "text/plain": [
       "MITM-ArpSpoofing           84260\n",
       "DDoS-TCP_Flood             84208\n",
       "Recon-HostDiscovery        84139\n",
       "DoS-UDP_Flood              84139\n",
       "DDoS-ICMP_Fragmentation    84119\n",
       "DoS-TCP_Flood              84086\n",
       "BenignTraffic              84085\n",
       "DDoS-SYN_Flood             84051\n",
       "Mirai-greip_flood          84050\n",
       "DDoS-PSHACK_Flood          84047\n",
       "DDoS-SynonymousIP_Flood    84021\n",
       "Mirai-greeth_flood         84018\n",
       "DDoS-ACK_Fragmentation     84015\n",
       "DoS-SYN_Flood              83971\n",
       "DDoS-RSTFINFlood           83949\n",
       "DDoS-UDP_Flood             83905\n",
       "DDoS-UDP_Fragmentation     83895\n",
       "DNS_Spoofing               83746\n",
       "Mirai-udpplain             83653\n",
       "DDoS-ICMP_Flood            83587\n",
       "Recon-OSScan               69603\n",
       "Recon-PortScan             58311\n",
       "DoS-HTTP_Flood             50629\n",
       "VulnerabilityScan          26378\n",
       "DDoS-HTTP_Flood            20338\n",
       "DDoS-SlowLoris             16573\n",
       "DictionaryBruteForce        9213\n",
       "BrowserHijacking            4134\n",
       "CommandInjection            3821\n",
       "SqlInjection                3748\n",
       "XSS                         2690\n",
       "Backdoor_Malware            2252\n",
       "Recon-PingSweep             1632\n",
       "Uploading_Attack             872\n",
       "Name: Label, dtype: int64"
      ]
     },
     "execution_count": 5,
     "metadata": {},
     "output_type": "execute_result"
    }
   ],
   "source": [
    "# xx types of attacks\n",
    "df['Label'].value_counts()"
   ]
  },
  {
   "cell_type": "markdown",
   "metadata": {},
   "source": [
    "## Drop unnecessary columns"
   ]
  },
  {
   "cell_type": "code",
   "execution_count": 6,
   "metadata": {},
   "outputs": [],
   "source": [
    "# Drop unnecessary columns from the DataFrame\n",
    "# 'ID': unique identifier for the event\n",
    "df = df.drop(columns=['ID'])"
   ]
  },
  {
   "cell_type": "markdown",
   "metadata": {},
   "source": [
    "## Inspect Dataset \n",
    "* Check the first few rows.\n",
    "* Look for null values and data types."
   ]
  },
  {
   "cell_type": "code",
   "execution_count": 7,
   "metadata": {},
   "outputs": [
    {
     "name": "stdout",
     "output_type": "stream",
     "text": [
      "   flow_duration  Header_Length  Protocol type  Duration       Rate  \\\n",
      "0       0.000000          54.00           6.00     64.00   2.890680   \n",
      "1       0.000892          54.58            NaN     64.00  28.594443   \n",
      "2       0.000000           0.00           1.00     64.00  23.716061   \n",
      "3     109.146727        1992.80           8.20     50.10  41.102103   \n",
      "4       0.025221          58.53           5.95     65.91  25.300629   \n",
      "\n",
      "       Srate  Drate  fin_flag_number  syn_flag_number  rst_flag_number  ...  \\\n",
      "0   2.890680    0.0              0.0              0.0              0.0  ...   \n",
      "1  28.594443    0.0              0.0              1.0              0.0  ...   \n",
      "2  23.716061    0.0              0.0              0.0              0.0  ...   \n",
      "3  41.102103    0.0              0.0              0.0              0.0  ...   \n",
      "4  25.300629    NaN              1.0              0.0              1.0  ...   \n",
      "\n",
      "          Std  Tot size           IAT  Number   Magnitue      Radius  \\\n",
      "0         NaN     54.00  8.294698e+07     9.5  10.392305    0.000000   \n",
      "1    0.000000     54.00  8.297298e+07     9.5  10.392305    0.000000   \n",
      "2         NaN       NaN  8.312478e+07     9.5   9.165151    0.000000   \n",
      "3  305.527954    223.00           NaN    13.5  19.438032  433.145956   \n",
      "4    1.158718     56.76  8.334493e+07     9.5  10.420536    1.657137   \n",
      "\n",
      "     Covariance  Variance  Weight             Label  \n",
      "0      0.000000      0.00  141.55     DoS-TCP_Flood  \n",
      "1      0.000000      0.00  141.55     DoS-SYN_Flood  \n",
      "2           NaN      0.00  141.55   DDoS-ICMP_Flood  \n",
      "3  98347.063168      1.00  244.60    Recon-PortScan  \n",
      "4     61.278209      0.04  141.55  DDoS-RSTFINFlood  \n",
      "\n",
      "[5 rows x 47 columns]\n"
     ]
    }
   ],
   "source": [
    "# Inspect the dataset\n",
    "print(df.head())"
   ]
  },
  {
   "cell_type": "code",
   "execution_count": 8,
   "metadata": {},
   "outputs": [
    {
     "name": "stdout",
     "output_type": "stream",
     "text": [
      "<class 'pandas.core.frame.DataFrame'>\n",
      "RangeIndex: 1950138 entries, 0 to 1950137\n",
      "Data columns (total 47 columns):\n",
      " #   Column           Dtype  \n",
      "---  ------           -----  \n",
      " 0   flow_duration    float64\n",
      " 1   Header_Length    float64\n",
      " 2   Protocol type    float64\n",
      " 3   Duration         float64\n",
      " 4   Rate             float64\n",
      " 5   Srate            float64\n",
      " 6   Drate            float64\n",
      " 7   fin_flag_number  float64\n",
      " 8   syn_flag_number  float64\n",
      " 9   rst_flag_number  float64\n",
      " 10  psh_flag_number  float64\n",
      " 11  ack_flag_number  float64\n",
      " 12  ece_flag_number  float64\n",
      " 13  cwr_flag_number  float64\n",
      " 14  ack_count        float64\n",
      " 15  syn_count        float64\n",
      " 16  fin_count        float64\n",
      " 17  urg_count        float64\n",
      " 18  rst_count        float64\n",
      " 19  HTTP             float64\n",
      " 20  HTTPS            float64\n",
      " 21  DNS              float64\n",
      " 22  Telnet           float64\n",
      " 23  SMTP             float64\n",
      " 24  SSH              float64\n",
      " 25  IRC              float64\n",
      " 26  TCP              float64\n",
      " 27  UDP              float64\n",
      " 28  DHCP             float64\n",
      " 29  ARP              float64\n",
      " 30  ICMP             float64\n",
      " 31  IPv              float64\n",
      " 32  LLC              float64\n",
      " 33  Tot sum          float64\n",
      " 34  Min              float64\n",
      " 35  Max              float64\n",
      " 36  AVG              float64\n",
      " 37  Std              float64\n",
      " 38  Tot size         float64\n",
      " 39  IAT              float64\n",
      " 40  Number           float64\n",
      " 41  Magnitue         float64\n",
      " 42  Radius           float64\n",
      " 43  Covariance       float64\n",
      " 44  Variance         float64\n",
      " 45  Weight           float64\n",
      " 46  Label            object \n",
      "dtypes: float64(46), object(1)\n",
      "memory usage: 699.3+ MB\n",
      "None\n"
     ]
    }
   ],
   "source": [
    "print(df.info())"
   ]
  },
  {
   "cell_type": "code",
   "execution_count": 9,
   "metadata": {},
   "outputs": [
    {
     "name": "stdout",
     "output_type": "stream",
     "text": [
      "       flow_duration  Header_Length  Protocol type      Duration  \\\n",
      "count   1.950138e+06   1.755125e+06   1.755125e+06  1.755125e+06   \n",
      "mean    5.994925e+01   2.561773e+05   1.147029e+01  7.428192e+01   \n",
      "std     9.899796e+02   8.636325e+05   1.157109e+01  2.871633e+01   \n",
      "min     0.000000e+00   0.000000e+00   0.000000e+00  0.000000e+00   \n",
      "25%     0.000000e+00   5.400000e+01   6.000000e+00  6.400000e+01   \n",
      "50%     7.493590e-02   1.790400e+02   6.000000e+00  6.400000e+01   \n",
      "75%     4.271036e+00   3.354800e+04   1.645000e+01  6.670000e+01   \n",
      "max     9.968566e+04   9.905298e+06   4.700000e+01  2.550000e+02   \n",
      "\n",
      "               Rate         Srate         Drate  fin_flag_number  \\\n",
      "count  1.755125e+06  1.755125e+06  1.755125e+06     1.950138e+06   \n",
      "mean   6.785824e+03  6.750602e+03  8.223632e-06     4.325284e-02   \n",
      "std    8.137564e+04  8.048460e+04  8.870114e-03     2.034258e-01   \n",
      "min    0.000000e+00  0.000000e+00  0.000000e+00     0.000000e+00   \n",
      "25%    3.076981e+00  3.073111e+00  0.000000e+00     0.000000e+00   \n",
      "50%    2.150338e+01  2.148666e+01  0.000000e+00     0.000000e+00   \n",
      "75%    1.334799e+02  1.332011e+02  0.000000e+00     0.000000e+00   \n",
      "max    8.388608e+06  8.388608e+06  1.170939e+01     1.000000e+00   \n",
      "\n",
      "       syn_flag_number  rst_flag_number  ...           AVG           Std  \\\n",
      "count     1.950138e+06     1.755125e+06  ...  1.950138e+06  1.755125e+06   \n",
      "mean      1.530876e-01     6.322684e-02  ...  3.476236e+02  1.691989e+02   \n",
      "std       3.600720e-01     2.433706e-01  ...  4.437503e+02  3.121736e+02   \n",
      "min       0.000000e+00     0.000000e+00  ...  4.200000e+01  0.000000e+00   \n",
      "25%       0.000000e+00     0.000000e+00  ...  5.400000e+01  0.000000e+00   \n",
      "50%       0.000000e+00     0.000000e+00  ...  8.577572e+01  2.347407e+00   \n",
      "75%       0.000000e+00     0.000000e+00  ...  5.780000e+02  2.113080e+02   \n",
      "max       1.000000e+00     1.000000e+00  ...  1.358300e+04  1.061685e+04   \n",
      "\n",
      "           Tot size           IAT        Number      Magnitue        Radius  \\\n",
      "count  1.755125e+06  1.755125e+06  1.950138e+06  1.755125e+06  1.755125e+06   \n",
      "mean   3.476085e+02  8.328895e+07  9.497451e+00  2.172407e+01  2.389561e+02   \n",
      "std    4.445527e+02  4.192699e+07  2.013270e+00  1.445219e+01  4.411874e+02   \n",
      "min    4.200000e+01  0.000000e+00  1.000000e+00  9.165151e+00  0.000000e+00   \n",
      "25%    5.400000e+01  8.300794e+07  9.500000e+00  1.039230e+01  0.000000e+00   \n",
      "50%    8.400000e+01  8.325435e+07  9.500000e+00  1.297986e+01  3.273241e+00   \n",
      "75%    5.780000e+02  8.357413e+07  9.500000e+00  3.400000e+01  2.964100e+02   \n",
      "max    1.358300e+04  1.676394e+08  1.500000e+01  1.648211e+02  1.501449e+04   \n",
      "\n",
      "         Covariance      Variance        Weight  \n",
      "count  1.755125e+06  1.755125e+06  1.950138e+06  \n",
      "mean   1.435068e+05  4.054312e-01  1.414847e+02  \n",
      "std    5.795866e+05  4.360786e-01  5.183485e+01  \n",
      "min    0.000000e+00  0.000000e+00  1.000000e+00  \n",
      "25%    0.000000e+00  0.000000e+00  1.415500e+02  \n",
      "50%    2.936323e+01  1.500000e-01  1.415500e+02  \n",
      "75%    7.981153e+04  9.375000e-01  1.415500e+02  \n",
      "max    1.287578e+08  1.000000e+00  2.446000e+02  \n",
      "\n",
      "[8 rows x 46 columns]\n"
     ]
    }
   ],
   "source": [
    "print(df.describe())"
   ]
  },
  {
   "cell_type": "markdown",
   "metadata": {},
   "source": [
    "## Handle Missing Values\n",
    "* Drop columns or rows with excessive missing data.\n",
    "* Impute missing values with mean/median for numeric data or mode for categorical data."
   ]
  },
  {
   "cell_type": "code",
   "execution_count": 17,
   "metadata": {},
   "outputs": [
    {
     "name": "stdout",
     "output_type": "stream",
     "text": [
      "Total:  1950138\n",
      "flow_duration      0\n",
      "Header_Length      0\n",
      "Protocol type      0\n",
      "Duration           0\n",
      "Rate               0\n",
      "Srate              0\n",
      "Drate              0\n",
      "fin_flag_number    0\n",
      "syn_flag_number    0\n",
      "rst_flag_number    0\n",
      "psh_flag_number    0\n",
      "ack_flag_number    0\n",
      "ece_flag_number    0\n",
      "cwr_flag_number    0\n",
      "ack_count          0\n",
      "syn_count          0\n",
      "fin_count          0\n",
      "urg_count          0\n",
      "rst_count          0\n",
      "HTTP               0\n",
      "HTTPS              0\n",
      "DNS                0\n",
      "SMTP               0\n",
      "SSH                0\n",
      "IRC                0\n",
      "TCP                0\n",
      "UDP                0\n",
      "DHCP               0\n",
      "ARP                0\n",
      "ICMP               0\n",
      "IPv                0\n",
      "LLC                0\n",
      "Tot sum            0\n",
      "Min                0\n",
      "Max                0\n",
      "AVG                0\n",
      "Std                0\n",
      "Tot size           0\n",
      "IAT                0\n",
      "Number             0\n",
      "Magnitue           0\n",
      "Radius             0\n",
      "Covariance         0\n",
      "Variance           0\n",
      "Weight             0\n",
      "Label              0\n",
      "dtype: int64\n"
     ]
    }
   ],
   "source": [
    "# Check for missing values\n",
    "print(\"Total: \", len(df))\n",
    "print(df.isnull().sum())"
   ]
  },
  {
   "cell_type": "code",
   "execution_count": 16,
   "metadata": {},
   "outputs": [],
   "source": [
    "# List of specific columns to replace NaN with 0\n",
    "columns_to_fill = ['Header_Length', 'Protocol type', 'Duration', 'Rate', 'Srate', 'Drate',\n",
    "                   'rst_flag_number', 'psh_flag_number', 'ece_flag_number', 'cwr_flag_number', 'ack_count', 'syn_count',\n",
    "                   'HTTP', 'HTTPS', 'SMTP', 'SSH', 'TCP', 'ARP', 'ICMP',\n",
    "                   'Tot sum', 'Min', \"Max\", 'Std', 'Tot size', 'IAT',\n",
    "                   'Magnitue', 'Radius','Covariance', 'Variance']\n",
    "\n",
    "# Fill missing values with 0 for these columns\n",
    "df[columns_to_fill] = df[columns_to_fill].fillna(0)"
   ]
  },
  {
   "cell_type": "markdown",
   "metadata": {},
   "source": [
    "## Check Unique Values Per Column\n",
    "* No records is Telnet -> drop"
   ]
  },
  {
   "cell_type": "code",
   "execution_count": 18,
   "metadata": {},
   "outputs": [
    {
     "name": "stdout",
     "output_type": "stream",
     "text": [
      "flow_duration      1291511/1950138\n",
      "Header_Length       658743/1950138\n",
      "Protocol type         4668/1950138\n",
      "Duration             12353/1950138\n",
      "Rate               1574314/1950138\n",
      "Srate              1574081/1950138\n",
      "Drate                   62/1950138\n",
      "fin_flag_number          2/1950138\n",
      "syn_flag_number          2/1950138\n",
      "rst_flag_number          2/1950138\n",
      "psh_flag_number          2/1950138\n",
      "ack_flag_number          2/1950138\n",
      "ece_flag_number          2/1950138\n",
      "cwr_flag_number          2/1950138\n",
      "ack_count              587/1950138\n",
      "syn_count             1356/1950138\n",
      "fin_count              993/1950138\n",
      "urg_count            32231/1950138\n",
      "rst_count            64085/1950138\n",
      "HTTP                     2/1950138\n",
      "HTTPS                    2/1950138\n",
      "DNS                      2/1950138\n",
      "SMTP                     2/1950138\n",
      "SSH                      2/1950138\n",
      "IRC                      2/1950138\n",
      "TCP                      2/1950138\n",
      "UDP                      2/1950138\n",
      "DHCP                     2/1950138\n",
      "ARP                      2/1950138\n",
      "ICMP                     2/1950138\n",
      "IPv                      2/1950138\n",
      "LLC                      2/1950138\n",
      "Tot sum             334774/1950138\n",
      "Min                  57470/1950138\n",
      "Max                 111296/1950138\n",
      "AVG                 875505/1950138\n",
      "Std                 765458/1950138\n",
      "Tot size             92675/1950138\n",
      "IAT                1677253/1950138\n",
      "Number                  97/1950138\n",
      "Magnitue            783578/1950138\n",
      "Radius              753224/1950138\n",
      "Covariance          753546/1950138\n",
      "Variance               708/1950138\n",
      "Weight                 103/1950138\n",
      "Label                   34/1950138\n",
      "dtype: object\n"
     ]
    }
   ],
   "source": [
    "# Calculate the number of unique values and the total number of rows\n",
    "unique_counts = df.nunique()\n",
    "total_counts = len(df)\n",
    "\n",
    "# Create a Series with the ratio of unique values\n",
    "ratios = unique_counts.astype(str) + '/' + str(total_counts)\n",
    "\n",
    "# Display the ratios for each column\n",
    "print(ratios)"
   ]
  },
  {
   "cell_type": "code",
   "execution_count": 12,
   "metadata": {},
   "outputs": [],
   "source": [
    "# Drop unnecessary columns from the DataFrame\n",
    "# 'Telnet': no records is telnet\n",
    "df = df.drop(columns=['Telnet'])"
   ]
  },
  {
   "cell_type": "markdown",
   "metadata": {},
   "source": [
    "# Model: Decision Tree"
   ]
  },
  {
   "cell_type": "code",
   "execution_count": null,
   "metadata": {},
   "outputs": [
    {
     "ename": "ModuleNotFoundError",
     "evalue": "No module named 'seaborn'",
     "output_type": "error",
     "traceback": [
      "\u001b[0;31m---------------------------------------------------------------------------\u001b[0m",
      "\u001b[0;31mModuleNotFoundError\u001b[0m                       Traceback (most recent call last)",
      "Cell \u001b[0;32mIn[20], line 8\u001b[0m\n\u001b[1;32m      6\u001b[0m \u001b[38;5;28;01mimport\u001b[39;00m \u001b[38;5;21;01mtime\u001b[39;00m\n\u001b[1;32m      7\u001b[0m \u001b[38;5;28;01mimport\u001b[39;00m \u001b[38;5;21;01mnumpy\u001b[39;00m \u001b[38;5;28;01mas\u001b[39;00m \u001b[38;5;21;01mnp\u001b[39;00m\n\u001b[0;32m----> 8\u001b[0m \u001b[38;5;28;01mimport\u001b[39;00m \u001b[38;5;21;01mseaborn\u001b[39;00m \u001b[38;5;28;01mas\u001b[39;00m \u001b[38;5;21;01msns\u001b[39;00m\n\u001b[1;32m      9\u001b[0m \u001b[38;5;28;01mimport\u001b[39;00m \u001b[38;5;21;01mmatplotlib\u001b[39;00m\u001b[38;5;21;01m.\u001b[39;00m\u001b[38;5;21;01mpyplot\u001b[39;00m \u001b[38;5;28;01mas\u001b[39;00m \u001b[38;5;21;01mplt\u001b[39;00m\n\u001b[1;32m     10\u001b[0m \u001b[38;5;28;01mfrom\u001b[39;00m \u001b[38;5;21;01msklearn\u001b[39;00m\u001b[38;5;21;01m.\u001b[39;00m\u001b[38;5;21;01mtree\u001b[39;00m \u001b[38;5;28;01mimport\u001b[39;00m DecisionTreeClassifier\n",
      "\u001b[0;31mModuleNotFoundError\u001b[0m: No module named 'seaborn'"
     ]
    }
   ],
   "source": [
    "import pandas as pd\n",
    "from sklearn.svm import SVC\n",
    "from sklearn.model_selection import GridSearchCV\n",
    "from sklearn.metrics import classification_report, confusion_matrix\n",
    "from sklearn.model_selection import train_test_split\n",
    "import time\n",
    "import numpy as np\n",
    "#import seaborn as sns\n",
    "import matplotlib.pyplot as plt\n",
    "from sklearn.tree import DecisionTreeClassifier"
   ]
  }
 ],
 "metadata": {
  "kernelspec": {
   "display_name": "Python 3",
   "language": "python",
   "name": "python3"
  },
  "language_info": {
   "codemirror_mode": {
    "name": "ipython",
    "version": 3
   },
   "file_extension": ".py",
   "mimetype": "text/x-python",
   "name": "python",
   "nbconvert_exporter": "python",
   "pygments_lexer": "ipython3",
   "version": "3.10.12"
  }
 },
 "nbformat": 4,
 "nbformat_minor": 2
}
